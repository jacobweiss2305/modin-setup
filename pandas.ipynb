{
 "cells": [
  {
   "cell_type": "code",
   "execution_count": 1,
   "metadata": {},
   "outputs": [],
   "source": [
    "import pandas as pd\n",
    "\n",
    "import numpy as np\n",
    "\n",
    "N = 100_000_000\n",
    "\n",
    "features = {\n",
    "    'feature_1': np.random.normal(0, 1, N),\n",
    "    'feature_2': np.random.normal(10, 1, N),\n",
    "    }\n",
    "\n",
    "target = pd.DataFrame(features)\n",
    "target['label'] = 1\n",
    "\n",
    "control = pd.DataFrame(features)\n",
    "control['label'] = 0\n",
    "\n",
    "df = pd.concat([target, control])\n",
    "df.head()"
   ]
  }
 ],
 "metadata": {
  "kernelspec": {
   "display_name": "Python 3",
   "language": "python",
   "name": "python3"
  },
  "language_info": {
   "codemirror_mode": {
    "name": "ipython",
    "version": 3
   },
   "file_extension": ".py",
   "mimetype": "text/x-python",
   "name": "python",
   "nbconvert_exporter": "python",
   "pygments_lexer": "ipython3",
   "version": "3.9.16"
  },
  "orig_nbformat": 4
 },
 "nbformat": 4,
 "nbformat_minor": 2
}
